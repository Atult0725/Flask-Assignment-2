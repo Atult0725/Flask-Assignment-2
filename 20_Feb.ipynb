{
 "cells": [
  {
   "cell_type": "code",
   "execution_count": null,
   "id": "f5615082-8c60-42cf-925c-f3445e49afbf",
   "metadata": {},
   "outputs": [],
   "source": [
    "'''Q1. Explain GET and POST methods.\n",
    "\n",
    "Ans-In Flask, GET and POST are HTTP request methods used to send data from a client (such as a web browser) to a web server. Here is an explanation of each method:\n",
    "\n",
    "GET method:\n",
    "The GET method is used to retrieve data from the server. When you click on a link in a web page, or type a URL into a browser's address bar, you are making a GET request. In Flask, GET requests are typically used to retrieve data from a database or to display a web page.\n",
    "'''\n",
    "\n",
    "from flask import Flask,request\n",
    "app=Flask(__name__)\n",
    "\n",
    "@app.route('/demo')\n",
    "def demo():\n",
    "    \n",
    "    name=request.args.get('name','atul')\n",
    "    return f'Hello {name} '\n",
    "if __name__=='__main__':\n",
    "    app.run()\n",
    "\n",
    "\n",
    "'''POST method---The POST method is used to submit data to the server. When you fill out a form on a website and click \"submit,\" you are making a POST request. In Flask, POST requests are typically used to add or update data in a database.'''\n",
    "\n",
    "from flask import Flask \n",
    "app=Flask(__name__)\n",
    "\n",
    "@app.route('/login', methods=['GET','POST'])\n",
    "def login():\n",
    "    if request.method=='POST':\n",
    "        username=request.form('username')\n",
    "        password=request.form('password')\n",
    "    else:\n",
    "        return '''\n",
    "                <form method=\"post\">\n",
    "                <input type=\"text\" name=\"username\">\n",
    "                <input type=\"password\" name=\"password\">\n",
    "                <input type=\"submit\" value=\"Login\">\n",
    "            </form>'''\n",
    "\n",
    "\n",
    "''''''"
   ]
  },
  {
   "cell_type": "raw",
   "id": "ddf4ed35-814b-4fa5-8a97-d32e2a867f79",
   "metadata": {},
   "source": [
    "\n",
    "'''Q2. Why is request used in Flask?\n",
    "\n",
    "\n",
    "Ans-->Request is a crucial part of Flask framework and is used to handle incoming HTTP requests from clients. When a user interacts with a Flask application by clicking a button, submitting a form or making an HTTP request, the server receives a request from the client, which is then processed by the Flask application.\n",
    "\n",
    "The request object in Flask is used to obtain data from the client-side of an HTTP request, such as the form data, the headers, the cookies, and the query parameters. This data can be processed and used by the Flask application to perform various actions, such as rendering templates, processing data, or returning responses to the client.\n",
    "\n",
    "The request object also allows Flask to support various HTTP methods such as GET, POST, PUT, DELETE, and others. These methods are used to define the type of request being made, and they provide the necessary information to the Flask application to respond accordingly.\n",
    "\n",
    "In summary, the request object in Flask is used to receive and handle incoming HTTP requests, extract data from the requests, and allow the Flask application to respond appropriately based on the type of request received.\n",
    "\n",
    "'''"
   ]
  },
  {
   "cell_type": "code",
   "execution_count": null,
   "id": "4d62da29-dffd-41cb-9417-8bae9f7bef5d",
   "metadata": {},
   "outputs": [],
   "source": [
    "    \n",
    "'''Q3. Why is redirect() used in Flask?\n",
    "\n",
    "\n",
    "\n",
    "Ans-In Flask, the redirect() function is used to redirect the user to another endpoint or URL after processing the current request. The redirect function is an important feature of Flask as it allows the server to redirect users to another page, rather than simply returning a response to the current request.\n",
    "\n",
    "There are several use cases for the redirect() function in Flask:\n",
    "\n",
    "Redirecting users after a form submission: When a user submits a form, the server can use the redirect() function to send the user to another page or URL. This is often used to display a confirmation message or to redirect the user to a thank you page.\n",
    "\n",
    "Handling authentication: If a user is not authenticated, the server can use the redirect() function to send the user to the login page. After the user logs in, the server can use redirect() again to send the user to the original page they were trying to access.\n",
    "\n",
    "Handling errors: If an error occurs during processing, the server can use the redirect() function to send the user to an error page, providing a better user experience.\n",
    "\n",
    "The syntax for the redirect() function is:\n",
    "\n",
    "\n",
    "'''\n",
    "from flask import Flask,redirect\n",
    "app=Flask(__name__)\n",
    "\n",
    "@app.route('/some')\n",
    "def some_func():\n",
    "    return redirect('https://www.google.com/')\n",
    "if __name__=='__main__':\n",
    "    app.run(debug=True)\n",
    "\n"
   ]
  },
  {
   "cell_type": "code",
   "execution_count": null,
   "id": "0eebf553-9980-4d2b-bdd4-7b21ee68f218",
   "metadata": {},
   "outputs": [],
   "source": [
    "\n",
    "'''Q4. What are templates in Flask? Why is the render_template() function used?\n",
    "\n",
    "Ans-In Flask, templates are files that contain a combination of static and dynamic content that is rendered and returned to the client as a response to an HTTP request. The dynamic content is usually generated by inserting values from Python code into the template.\n",
    "\n",
    "Flask uses a templating engine called Jinja2 to render templates. Jinja2 allows developers to define placeholders in the template, which are then replaced with actual values at runtime. This makes it easy to create dynamic web pages that can display different content based on user input or other factors.\n",
    "\n",
    "The render_template() function is used to render a template in Flask. This function takes the name of the template file as its first argument and any additional keyword arguments to be passed to the template as named variables. For example, consider the following code:'''\n",
    "\n",
    "from flask import Flask, render_template\n",
    "\n",
    "app = Flask(__name__)\n",
    "\n",
    "@app.route('/')\n",
    "def hello():\n",
    "    return render_template('hello.html', name='Atul')\n"
   ]
  },
  {
   "cell_type": "code",
   "execution_count": null,
   "id": "11789b94-957b-4a5f-953b-9826afca03c0",
   "metadata": {},
   "outputs": [],
   "source": [
    "\n",
    "'''Q5. Create a simple API. Use Postman to test it. Attach the screenshot of the output in the Jupyter Notebook.\n",
    "Ans-\n",
    "'''\n",
    "from flask import Flask,jsonify\n",
    "app=Flask(__name__)\n",
    "\n",
    "@app.route('/')\n",
    "def index():\n",
    "    return 'Hello, world'\n",
    "\n",
    "@app.route('/api')\n",
    "def api():\n",
    "    data = {'name': 'John', 'age': 30, 'city': 'New York'}\n",
    "    return jsonify(data)\n",
    "\n",
    "if __name__ == '__main__':\n",
    "    app.run(debug=True)"
   ]
  },
  {
   "cell_type": "markdown",
   "id": "5e756b4c-5919-41fc-a83f-5a001a740a81",
   "metadata": {},
   "source": [
    "https://black-postman-rfozs.pwskills.app/lab/tree/work/Postman_api.pdf"
   ]
  },
  {
   "cell_type": "code",
   "execution_count": null,
   "id": "f22e40d9-3150-424b-9fba-5c8519156f68",
   "metadata": {},
   "outputs": [],
   "source": []
  }
 ],
 "metadata": {
  "kernelspec": {
   "display_name": "Python 3 (ipykernel)",
   "language": "python",
   "name": "python3"
  },
  "language_info": {
   "codemirror_mode": {
    "name": "ipython",
    "version": 3
   },
   "file_extension": ".py",
   "mimetype": "text/x-python",
   "name": "python",
   "nbconvert_exporter": "python",
   "pygments_lexer": "ipython3",
   "version": "3.10.8"
  }
 },
 "nbformat": 4,
 "nbformat_minor": 5
}
